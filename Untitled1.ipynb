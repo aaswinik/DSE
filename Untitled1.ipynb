{
 "cells": [
  {
   "cell_type": "code",
   "execution_count": null,
   "metadata": {
    "collapsed": true
   },
   "outputs": [],
   "source": [
    "import networkx as nx\n",
    "import pandas as pd\n",
    "import matplotlib.pyplot as plt\n",
    "%matplotlib inline"
   ]
  },
  {
   "cell_type": "code",
   "execution_count": null,
   "metadata": {
    "collapsed": true
   },
   "outputs": [],
   "source": [
    "M=nx.read_gml(\"polblogs.gml\", relabel=True)"
   ]
  },
  {
   "cell_type": "code",
   "execution_count": null,
   "metadata": {
    "collapsed": true
   },
   "outputs": [],
   "source": [
    "# create weighted graph from M\n",
    "G = nx.Graph()\n",
    "for u,v,data in M.edges_iter(data=True):\n",
    "    if G.has_edge(u,v):\n",
    "        G[u][v]['weight'] += 1\n",
    "    else:\n",
    "        G.add_edge(u, v, weight=1)"
   ]
  },
  {
   "cell_type": "code",
   "execution_count": null,
   "metadata": {
    "collapsed": false
   },
   "outputs": [],
   "source": [
    "nx.draw(G)"
   ]
  },
  {
   "cell_type": "markdown",
   "metadata": {},
   "source": [
    "### 1.  Create a nice looking graph of the political blog network"
   ]
  },
  {
   "cell_type": "code",
   "execution_count": null,
   "metadata": {
    "collapsed": true
   },
   "outputs": [],
   "source": [
    "plt.figure(figsize=(40,40))\n",
    "pos=nx.spring_layout(G, iterations=1000, scale=5, k=.3)\n",
    "nx.draw_networkx_labels(G,pos,fontsize=8)\n",
    "font = {'fontname'   : 'Helvetica',\n",
    "            'color'      : 'k',\n",
    "            'fontweight' : 'bold',\n",
    "            'fontsize'   : 14}\n",
    "plt.title(\"political blog network\", font)\n",
    "\n",
    "\n",
    "nx.draw_networkx_nodes(G,pos,node_color='b',alpha=0.4)\n",
    "nx.draw_networkx_edges(G,pos,alpha=0.4,node_size=0,width=1,edge_color='k')\n",
    "plt.axis('off')\n",
    "plt.show()"
   ]
  },
  {
   "cell_type": "code",
   "execution_count": null,
   "metadata": {
    "collapsed": true
   },
   "outputs": [],
   "source": [
    "centrality= nx.eigenvector_centrality_numpy(G)"
   ]
  },
  {
   "cell_type": "code",
   "execution_count": null,
   "metadata": {
    "collapsed": true
   },
   "outputs": [],
   "source": [
    "blog_list = []\n",
    "for node in centrality:\n",
    "    blog_list.append((node,centrality[node]))\n",
    "    \n",
    "sorted_blog_list = blog_list.sort(key=lambda x: x[1])"
   ]
  },
  {
   "cell_type": "code",
   "execution_count": null,
   "metadata": {
    "collapsed": true
   },
   "outputs": [],
   "source": [
    "sorted(blog_list, key=lambda x: x[1], reverse=True)"
   ]
  },
  {
   "cell_type": "code",
   "execution_count": null,
   "metadata": {
    "collapsed": true
   },
   "outputs": [],
   "source": []
  }
 ],
 "metadata": {
  "kernelspec": {
   "display_name": "Python 2",
   "language": "python",
   "name": "python2"
  },
  "language_info": {
   "codemirror_mode": {
    "name": "ipython",
    "version": 2
   },
   "file_extension": ".py",
   "mimetype": "text/x-python",
   "name": "python",
   "nbconvert_exporter": "python",
   "pygments_lexer": "ipython2",
   "version": "2.7.9"
  }
 },
 "nbformat": 4,
 "nbformat_minor": 0
}
