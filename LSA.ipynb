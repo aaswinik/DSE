{
 "metadata": {
  "name": "",
  "signature": "sha256:d794f043a5e9395a55d06acbb75618a967e3f15b77c2f0ba19d81a4b6d65cc6e"
 },
 "nbformat": 3,
 "nbformat_minor": 0,
 "worksheets": [
  {
   "cells": [
    {
     "cell_type": "code",
     "collapsed": false,
     "input": [
      "from sklearn.datasets import fetch_20newsgroups\n",
      "categories = ['rec.sport.baseball']\n",
      "dataset = fetch_20newsgroups(subset='all',shuffle=True, random_state=42, categories=categories)\n",
      "corpus = dataset.data"
     ],
     "language": "python",
     "metadata": {},
     "outputs": [],
     "prompt_number": 35
    },
    {
     "cell_type": "code",
     "collapsed": false,
     "input": [
      "from bs4 import BeautifulSoup\n",
      "import nltk\n",
      "from nltk.corpus import stopwords\n",
      "from sklearn.feature_extraction.text import TfidfVectorizer\n",
      "from sklearn.decomposition import TruncatedSVD"
     ],
     "language": "python",
     "metadata": {},
     "outputs": [],
     "prompt_number": 36
    },
    {
     "cell_type": "code",
     "collapsed": false,
     "input": [
      "\n",
      "nltk.download('stopwords')"
     ],
     "language": "python",
     "metadata": {},
     "outputs": [
      {
       "output_type": "stream",
       "stream": "stdout",
       "text": [
        "[nltk_data] Downloading package stopwords to /Users/Ak/nltk_data...\n",
        "[nltk_data]   Package stopwords is already up-to-date!\n"
       ]
      },
      {
       "metadata": {},
       "output_type": "pyout",
       "prompt_number": 37,
       "text": [
        "True"
       ]
      }
     ],
     "prompt_number": 37
    },
    {
     "cell_type": "code",
     "collapsed": false,
     "input": [
      "stopset = set(stopwords.words('english'))\n",
      "stopset.update(['lt','p','/p','br','amp','quot','field','font','normal','span','0px','rgb','style','51', \n",
      "                'spacing','text','helvetica','size','family', 'space', 'arial', 'height', 'indent', 'letter'\n",
      "                'line','none','sans','serif','transform','line','variant','weight','times', 'new','strong', 'video', 'title'\n",
      "                'white','word','letter', 'roman','0pt','16','color','12','14','21', 'neue', 'apple', 'class', '00','11','10','11'\n",
      "                '1qt1f3'])\n",
      "\n"
     ],
     "language": "python",
     "metadata": {},
     "outputs": [],
     "prompt_number": 46
    },
    {
     "cell_type": "code",
     "collapsed": false,
     "input": [
      "\n",
      "corpus[0]"
     ],
     "language": "python",
     "metadata": {},
     "outputs": [
      {
       "metadata": {},
       "output_type": "pyout",
       "prompt_number": 47,
       "text": [
        "u\"From: writingctr@leo.bsuvc.bsu.edu\\nSubject: Re: CUB fever.\\nOrganization: Ball State University, Muncie, In - Univ. Computing Svc's\\nLines: 21\\n\\n\\nIn article <kingoz.735285670@camelot>, kingoz@camelot.bradley.edu (Orin Roth) writes:\\n> \\n>    CUB fever is hitting me again. I'm beginning to think they have a \\n>    chance this year. (what the heck am i thinking?)\\n>    Sorry. Just a moment of incompetence.\\n>    I'll be ok. Really. \\n>    Orin.\\n>    Bradley U.\\n> \\n> --\\n> I'm really a jester in disguise!                                   \\nI hear ya!  Then again, we must remember that we are indeed Cub fans, and\\nthat the Cubs will eventually blow it.  After all, the Cubs are the easiest\\nteam in the National League to root for.  No Pressure.  You know they will\\nlose eventually.  Oh well, I suppose we must have faith.  After all, they\\ndo look pretty good, and they don't even have Sandberg back yet.  \\n\\nCUBS IN '93!!!!!\\n\\nCHA\\n\""
       ]
      }
     ],
     "prompt_number": 47
    },
    {
     "cell_type": "code",
     "collapsed": false,
     "input": [
      "vectorizer = TfidfVectorizer(stop_words=stopset,\n",
      "                                 use_idf=True, ngram_range=(1, 3))\n",
      "X = vectorizer.fit_transform(corpus)"
     ],
     "language": "python",
     "metadata": {},
     "outputs": [],
     "prompt_number": 48
    },
    {
     "cell_type": "code",
     "collapsed": false,
     "input": [
      "X[0]"
     ],
     "language": "python",
     "metadata": {},
     "outputs": [
      {
       "metadata": {},
       "output_type": "pyout",
       "prompt_number": 49,
       "text": [
        "<1x189484 sparse matrix of type '<type 'numpy.float64'>'\n",
        "\twith 235 stored elements in Compressed Sparse Row format>"
       ]
      }
     ],
     "prompt_number": 49
    },
    {
     "cell_type": "code",
     "collapsed": false,
     "input": [
      "\n",
      "print X[0]"
     ],
     "language": "python",
     "metadata": {},
     "outputs": [
      {
       "output_type": "stream",
       "stream": "stdout",
       "text": [
        "  (0, 51141)\t0.0734489878975\n",
        "  (0, 189106)\t0.0734489878975\n",
        "  (0, 28641)\t0.0734489878975\n",
        "  (0, 146233)\t0.0734489878975\n",
        "  (0, 64088)\t0.0734489878975\n",
        "  (0, 77597)\t0.0734489878975\n",
        "  (0, 132837)\t0.0734489878975\n",
        "  (0, 103107)\t0.0734489878975\n",
        "  (0, 66474)\t0.0734489878975\n",
        "  (0, 114203)\t0.0734489878975\n",
        "  (0, 162938)\t0.0734489878975\n",
        "  (0, 180775)\t0.0734489878975\n",
        "  (0, 119307)\t0.0734489878975\n",
        "  (0, 64224)\t0.0734489878975\n",
        "  (0, 103601)\t0.0734489878975\n",
        "  (0, 95210)\t0.0734489878975\n",
        "  (0, 132752)\t0.0734489878975\n",
        "  (0, 143399)\t0.0734489878975\n",
        "  (0, 97804)\t0.0734489878975\n",
        "  (0, 114844)\t0.0734489878975\n",
        "  (0, 165297)\t0.0734489878975\n",
        "  (0, 59345)\t0.0734489878975\n",
        "  (0, 51181)\t0.0734489878975\n",
        "  (0, 35406)\t0.0734489878975\n",
        "  (0, 64214)\t0.0734489878975\n",
        "  :\t:\n",
        "  (0, 143633)\t0.0551951318334\n",
        "  (0, 121974)\t0.110390263667\n",
        "  (0, 37195)\t0.0989879005487\n",
        "  (0, 40363)\t0.104528643027\n",
        "  (0, 16217)\t0.0734489878975\n",
        "  (0, 94621)\t0.110390263667\n",
        "  (0, 25466)\t0.0160800546801\n",
        "  (0, 100483)\t0.0102492902109\n",
        "  (0, 163527)\t0.0606862508772\n",
        "  (0, 47825)\t0.0387987078143\n",
        "  (0, 174930)\t0.0391440856707\n",
        "  (0, 114001)\t0.0606862508772\n",
        "  (0, 174966)\t0.0179374867251\n",
        "  (0, 158701)\t0.0372282713969\n",
        "  (0, 29163)\t0.0306129626461\n",
        "  (0, 121361)\t0.0102699130338\n",
        "  (0, 68015)\t0.124513374589\n",
        "  (0, 51063)\t0.160874086248\n",
        "  (0, 136870)\t0.0126678475136\n",
        "  (0, 161501)\t0.0101876710449\n",
        "  (0, 59845)\t0.0237289245867\n",
        "  (0, 38435)\t0.0505135676272\n",
        "  (0, 38445)\t0.0505135676272\n",
        "  (0, 98830)\t0.0494939502743\n",
        "  (0, 186605)\t0.0734489878975\n"
       ]
      }
     ],
     "prompt_number": 43
    },
    {
     "cell_type": "code",
     "collapsed": false,
     "input": [
      "X.shape"
     ],
     "language": "python",
     "metadata": {},
     "outputs": [
      {
       "metadata": {},
       "output_type": "pyout",
       "prompt_number": 50,
       "text": [
        "(994, 189484)"
       ]
      }
     ],
     "prompt_number": 50
    },
    {
     "cell_type": "code",
     "collapsed": false,
     "input": [
      "lsa = TruncatedSVD(n_components=27, n_iter=100)\n",
      "lsa.fit(X)\n",
      "\n",
      "\n"
     ],
     "language": "python",
     "metadata": {},
     "outputs": [
      {
       "metadata": {},
       "output_type": "pyout",
       "prompt_number": 51,
       "text": [
        "TruncatedSVD(algorithm='randomized', n_components=27, n_iter=100,\n",
        "       random_state=None, tol=0.0)"
       ]
      }
     ],
     "prompt_number": 51
    },
    {
     "cell_type": "code",
     "collapsed": false,
     "input": [
      "\n",
      "lsa.components_[0]"
     ],
     "language": "python",
     "metadata": {},
     "outputs": [
      {
       "metadata": {},
       "output_type": "pyout",
       "prompt_number": 53,
       "text": [
        "array([ 0.0140771 ,  0.00176703,  0.00038553, ...,  0.00102774,\n",
        "        0.00102774,  0.00102774])"
       ]
      }
     ],
     "prompt_number": 53
    },
    {
     "cell_type": "code",
     "collapsed": false,
     "input": [
      "terms = vectorizer.get_feature_names()\n",
      "for i, comp in enumerate(lsa.components_): \n",
      "    termsInComp = zip (terms,comp)\n",
      "    sortedTerms =  sorted(termsInComp, key=lambda x: x[1], reverse=True) [:10]\n",
      "    print \"Concept %d:\" % i\n",
      "    for term in sortedTerms:\n",
      "        print term[0]\n",
      "    print \" \""
     ],
     "language": "python",
     "metadata": {},
     "outputs": [
      {
       "output_type": "stream",
       "stream": "stdout",
       "text": [
        "Concept 0:\n",
        "edu\n",
        "com\n",
        "year\n",
        "writes\n",
        "team\n",
        "would\n",
        "game\n",
        "article\n",
        "re\n",
        "cs\n",
        " \n",
        "Concept 1:"
       ]
      },
      {
       "output_type": "stream",
       "stream": "stdout",
       "text": [
        "\n",
        "jewish\n",
        "baseball\n",
        "host\n",
        "edu\n",
        "game\n",
        "roger\n",
        "average\n",
        "players\n",
        "home\n",
        "thanks\n",
        " \n",
        "Concept 2:"
       ]
      },
      {
       "output_type": "stream",
       "stream": "stdout",
       "text": [
        "\n",
        "edu\n",
        "first\n",
        "re\n",
        "university\n",
        "nntp posting host\n",
        "posting host\n",
        "nntp\n",
        "go\n",
        "nntp posting\n",
        "fans\n",
        " \n",
        "Concept 3:"
       ]
      },
      {
       "output_type": "stream",
       "stream": "stdout",
       "text": [
        "\n",
        "com\n",
        "team\n",
        "way\n",
        "posting\n",
        "best\n",
        "games\n",
        "league\n",
        "gant\n",
        "ll\n",
        "players\n",
        " \n",
        "Concept 4:"
       ]
      },
      {
       "output_type": "stream",
       "stream": "stdout",
       "text": [
        "\n",
        "well\n",
        "posting\n",
        "last\n",
        "league\n",
        "pitcher\n",
        "know\n",
        "first\n",
        "reply\n",
        "say\n",
        "many\n",
        " \n",
        "Concept 5:"
       ]
      },
      {
       "output_type": "stream",
       "stream": "stdout",
       "text": [
        "\n",
        "team\n",
        "edu\n",
        "time\n",
        "cs\n",
        "subject\n",
        "two\n",
        "make\n",
        "red\n",
        "distribution\n",
        "players\n",
        " \n",
        "Concept 6:"
       ]
      },
      {
       "output_type": "stream",
       "stream": "stdout",
       "text": [
        "\n",
        "com\n",
        "runs\n",
        "see\n",
        "play\n",
        "also\n",
        "subject re\n",
        "mark\n",
        "average\n",
        "williams\n",
        "uiuc edu\n",
        " \n",
        "Concept 7:"
       ]
      },
      {
       "output_type": "stream",
       "stream": "stdout",
       "text": [
        "\n",
        "much\n",
        "game\n",
        "edu\n",
        "cs\n",
        "braves\n",
        "subject re\n",
        "anyone\n",
        "lot\n",
        "bob\n",
        "well\n",
        " \n",
        "Concept 8:"
       ]
      },
      {
       "output_type": "stream",
       "stream": "stdout",
       "text": [
        "\n",
        "game\n",
        "team\n",
        "last\n",
        "know\n",
        "make\n",
        "gant\n",
        "lot\n",
        "didn\n",
        "netcom\n",
        "time\n",
        " \n",
        "Concept 9:"
       ]
      },
      {
       "output_type": "stream",
       "stream": "stdout",
       "text": [
        "\n",
        "braves\n",
        "baseball\n",
        "think\n",
        "organization university\n",
        "dave\n",
        "day\n",
        "last\n",
        "even\n",
        "years\n",
        "dept\n",
        " \n",
        "Concept 10:"
       ]
      },
      {
       "output_type": "stream",
       "stream": "stdout",
       "text": [
        "\n",
        "host\n",
        "player\n",
        "runs\n",
        "team\n",
        "little\n",
        "edu organization\n",
        "steve\n",
        "john\n",
        "way\n",
        "really\n",
        " \n",
        "Concept 11:"
       ]
      },
      {
       "output_type": "stream",
       "stream": "stdout",
       "text": [
        "\n",
        "com\n",
        "games\n",
        "better\n",
        "john\n",
        "could\n",
        "way\n",
        "sox\n",
        "world\n",
        "braves\n",
        "game\n",
        " \n",
        "Concept 12:"
       ]
      },
      {
       "output_type": "stream",
       "stream": "stdout",
       "text": [
        "\n",
        "hit\n",
        "first\n",
        "morris\n",
        "subject re\n",
        "cs\n",
        "john\n",
        "get\n",
        "right\n",
        "best\n",
        "way\n",
        " \n",
        "Concept 13:"
       ]
      },
      {
       "output_type": "stream",
       "stream": "stdout",
       "text": [
        "\n",
        "year\n",
        "team\n",
        "won\n",
        "get\n",
        "subject re\n",
        "season\n",
        "host\n",
        "writes article\n",
        "hit\n",
        "article\n",
        " \n",
        "Concept 14:"
       ]
      },
      {
       "output_type": "stream",
       "stream": "stdout",
       "text": [
        "\n",
        "players\n",
        "think\n",
        "see\n",
        "anyone\n",
        "well\n",
        "baseball\n",
        "year\n",
        "make\n",
        "player\n",
        "mets\n",
        " \n",
        "Concept 15:"
       ]
      },
      {
       "output_type": "stream",
       "stream": "stdout",
       "text": [
        "\n",
        "game\n",
        "first\n",
        "well\n",
        "would\n",
        "pitching\n",
        "know\n",
        "one\n",
        "braves\n",
        "distribution\n",
        "get\n",
        " \n",
        "Concept 16:"
       ]
      },
      {
       "output_type": "stream",
       "stream": "stdout",
       "text": [
        "\n",
        "team\n",
        "could\n",
        "baseball\n",
        "ball\n",
        "much\n",
        "distribution\n",
        "netcom\n",
        "best\n",
        "league\n",
        "first\n",
        " \n",
        "Concept 17:"
       ]
      },
      {
       "output_type": "stream",
       "stream": "stdout",
       "text": [
        "\n",
        "games\n",
        "think\n",
        "well\n",
        "cs\n",
        "last year\n",
        "fan\n",
        "ca\n",
        "could\n",
        "season\n",
        "really\n",
        " \n",
        "Concept 18:"
       ]
      },
      {
       "output_type": "stream",
       "stream": "stdout",
       "text": [
        "\n",
        "one\n",
        "subject\n",
        "time\n",
        "game\n",
        "even\n",
        "think\n",
        "better\n",
        "hit\n",
        "com\n",
        "writes article\n",
        " \n",
        "Concept 19:"
       ]
      },
      {
       "output_type": "stream",
       "stream": "stdout",
       "text": [
        "\n",
        "game\n",
        "com\n",
        "re\n",
        "good\n",
        "writes\n",
        "think\n",
        "like\n",
        "cs\n",
        "every\n",
        "get\n",
        " \n",
        "Concept 20:"
       ]
      },
      {
       "output_type": "stream",
       "stream": "stdout",
       "text": [
        "\n",
        "year\n",
        "edu\n",
        "much\n",
        "one\n",
        "posting\n",
        "know\n",
        "season\n",
        "time\n",
        "writes\n",
        "play\n",
        " \n",
        "Concept 21:"
       ]
      },
      {
       "output_type": "stream",
       "stream": "stdout",
       "text": [
        "\n",
        "com\n",
        "baseball\n",
        "good\n",
        "win\n",
        "host\n",
        "university\n",
        "well\n",
        "think\n",
        "league\n",
        "many\n",
        " \n",
        "Concept 22:"
       ]
      },
      {
       "output_type": "stream",
       "stream": "stdout",
       "text": [
        "\n",
        "baseball\n",
        "would\n",
        "com\n",
        "posting\n",
        "go\n",
        "subject\n",
        "nntp posting\n",
        "cs\n",
        "make\n",
        "games\n",
        " \n",
        "Concept 23:"
       ]
      },
      {
       "output_type": "stream",
       "stream": "stdout",
       "text": [
        "\n",
        "games\n",
        "host\n",
        "two\n",
        "year\n",
        "game\n",
        "cs\n",
        "university\n",
        "well\n",
        "even\n",
        "last\n",
        " \n",
        "Concept 24:"
       ]
      },
      {
       "output_type": "stream",
       "stream": "stdout",
       "text": [
        "\n",
        "would\n",
        "re\n",
        "players\n",
        "edu\n",
        "come\n",
        "time\n",
        "baseball\n",
        "team\n",
        "pretty\n",
        "say\n",
        " \n",
        "Concept 25:"
       ]
      },
      {
       "output_type": "stream",
       "stream": "stdout",
       "text": [
        "\n",
        "one\n",
        "would\n",
        "writes\n",
        "games\n",
        "host\n",
        "like\n",
        "cs\n",
        "say\n",
        "league\n",
        "university\n",
        " \n",
        "Concept 26:"
       ]
      },
      {
       "output_type": "stream",
       "stream": "stdout",
       "text": [
        "\n",
        "article\n",
        "host\n",
        "writes\n",
        "would\n",
        "first\n",
        "cs\n",
        "many\n",
        "much\n",
        "two\n",
        "re\n",
        " \n"
       ]
      }
     ],
     "prompt_number": 54
    },
    {
     "cell_type": "code",
     "collapsed": false,
     "input": [],
     "language": "python",
     "metadata": {},
     "outputs": []
    }
   ],
   "metadata": {}
  }
 ]
}